{
 "cells": [
  {
   "cell_type": "code",
   "execution_count": 2,
   "metadata": {},
   "outputs": [],
   "source": [
    "from shallowstack.neural_net.datamodule import PokerDataModule\n",
    "from shallowstack.state_manager.state_manager import PokerGameStage\n",
    "import torch\n",
    "\n",
    "\n",
    "data = PokerDataModule(PokerGameStage.RIVER, 5, 1000)\n",
    "data.setup(\"\")\n",
    "\n",
    "i = iter(data.train_dataloader())\n",
    "value: torch.Tensor = next(i)"
   ]
  },
  {
   "cell_type": "code",
   "execution_count": 4,
   "metadata": {},
   "outputs": [],
   "source": [
    "data2 = PokerDataModule(PokerGameStage.TURN, 5, 1000)\n",
    "data2.setup(\"\")\n",
    "\n",
    "i2 = iter(data2.train_dataloader())\n",
    "value2: torch.Tensor = next(i2)"
   ]
  },
  {
   "cell_type": "code",
   "execution_count": 9,
   "metadata": {},
   "outputs": [
    {
     "data": {
      "text/plain": [
       "tensor([[[ 7.0272e-04,  3.0481e-04,  0.0000e+00,  ...,  2.8445e-09,\n",
       "          -2.0390e-09,  0.0000e+00]],\n",
       "\n",
       "        [[ 1.5994e-04,  1.3040e-03,  1.3403e-03,  ..., -7.2889e-09,\n",
       "          -9.9699e-11,  0.0000e+00]],\n",
       "\n",
       "        [[ 1.1677e-03,  5.8479e-04,  1.3240e-03,  ..., -8.9971e-09,\n",
       "           2.4947e-09,  0.0000e+00]],\n",
       "\n",
       "        [[ 1.4418e-03,  7.3638e-04,  4.7491e-04,  ...,  9.0962e-09,\n",
       "           8.4115e-09,  0.0000e+00]],\n",
       "\n",
       "        [[ 0.0000e+00,  1.1319e-03,  8.3868e-04,  ...,  7.5815e-10,\n",
       "          -3.3374e-09,  0.0000e+00]]], dtype=torch.float64)"
      ]
     },
     "execution_count": 9,
     "metadata": {},
     "output_type": "execute_result"
    }
   ],
   "source": [
    "value2"
   ]
  },
  {
   "cell_type": "code",
   "execution_count": 8,
   "metadata": {},
   "outputs": [
    {
     "data": {
      "text/plain": [
       "device(type='mps')"
      ]
     },
     "execution_count": 8,
     "metadata": {},
     "output_type": "execute_result"
    }
   ],
   "source": [
    "torch.device(\"mps\")"
   ]
  },
  {
   "cell_type": "code",
   "execution_count": 7,
   "metadata": {},
   "outputs": [
    {
     "name": "stdout",
     "output_type": "stream",
     "text": [
      "torch.float32\n",
      "torch.Size([5, 2658])\n",
      "torch.Size([5, 2653])\n"
     ]
    }
   ],
   "source": [
    "x, y = value.split([1326 * 2 + 1 + 5, 1326 * 2 + 1], dim=1)\n",
    "print(x.dtype)\n",
    "\n",
    "print(x.shape)\n",
    "print(y.shape)"
   ]
  },
  {
   "cell_type": "code",
   "execution_count": 4,
   "metadata": {},
   "outputs": [],
   "source": [
    "from lightning import Trainer\n",
    "from shallowstack.neural_net.model import ValueNetwork\n",
    "\n",
    "\n",
    "model = ValueNetwork(1326, 5)\n"
   ]
  },
  {
   "cell_type": "code",
   "execution_count": 5,
   "metadata": {},
   "outputs": [
    {
     "name": "stdout",
     "output_type": "stream",
     "text": [
      "tensor([[-2.5402e-04, -4.3441e-05, -1.0448e-04, -2.8454e-04, -1.1668e-04],\n",
      "        [-2.5339e-04, -4.3337e-05, -1.0422e-04, -2.8383e-04, -1.1640e-04],\n",
      "        [-2.5312e-04, -4.3288e-05, -1.0411e-04, -2.8353e-04, -1.1627e-04],\n",
      "        [-2.5534e-04, -4.3667e-05, -1.0502e-04, -2.8602e-04, -1.1729e-04],\n",
      "        [-2.5691e-04, -4.3936e-05, -1.0567e-04, -2.8777e-04, -1.1802e-04]])\n",
      "tensor(-0.0003)\n"
     ]
    }
   ],
   "source": [
    "print(x[:, :1326] @ y[:, :1326].T)\n",
    "print(torch.dot(x[0, :1326], y[0, :1326]))"
   ]
  },
  {
   "cell_type": "code",
   "execution_count": 6,
   "metadata": {},
   "outputs": [
    {
     "data": {
      "text/plain": [
       "torch.Size([5, 2658])"
      ]
     },
     "execution_count": 6,
     "metadata": {},
     "output_type": "execute_result"
    }
   ],
   "source": [
    "x.shape"
   ]
  },
  {
   "cell_type": "code",
   "execution_count": 7,
   "metadata": {},
   "outputs": [
    {
     "data": {
      "text/plain": [
       "torch.Size([5, 1])"
      ]
     },
     "execution_count": 7,
     "metadata": {},
     "output_type": "execute_result"
    }
   ],
   "source": [
    "torch.bmm(x[:, :1326*2 + 1].unsqueeze(1), y.unsqueeze(2)).squeeze(1).shape"
   ]
  },
  {
   "cell_type": "code",
   "execution_count": 8,
   "metadata": {},
   "outputs": [
    {
     "data": {
      "text/plain": [
       "tensor([[ 0.0259,  0.0560, -0.1152,  ..., -0.1321,  0.1834,  0.0051],\n",
       "        [ 0.0346,  0.0225, -0.1206,  ..., -0.1261,  0.1912, -0.0002],\n",
       "        [ 0.0269,  0.0417, -0.1126,  ..., -0.1403,  0.1918,  0.0029],\n",
       "        [ 0.0341,  0.0579, -0.1223,  ..., -0.1287,  0.1923,  0.0025],\n",
       "        [ 0.0263,  0.0402, -0.1252,  ..., -0.1299,  0.1774,  0.0069]],\n",
       "       grad_fn=<CatBackward0>)"
      ]
     },
     "execution_count": 8,
     "metadata": {},
     "output_type": "execute_result"
    }
   ],
   "source": [
    "model(x)"
   ]
  },
  {
   "cell_type": "code",
   "execution_count": 13,
   "metadata": {},
   "outputs": [
    {
     "name": "stderr",
     "output_type": "stream",
     "text": [
      "GPU available: True (mps), used: True\n",
      "TPU available: False, using: 0 TPU cores\n",
      "IPU available: False, using: 0 IPUs\n",
      "HPU available: False, using: 0 HPUs\n",
      "\n",
      "  | Name         | Type   | Params\n",
      "----------------------------------------\n",
      "0 | fc1          | Linear | 680 K \n",
      "1 | fc2          | Linear | 32.9 K\n",
      "2 | fc3          | Linear | 8.3 K \n",
      "3 | fc4          | Linear | 2.1 K \n",
      "4 | value_output | Linear | 87.5 K\n",
      "----------------------------------------\n",
      "811 K     Trainable params\n",
      "0         Non-trainable params\n",
      "811 K     Total params\n",
      "3.246     Total estimated model params size (MB)\n"
     ]
    },
    {
     "name": "stdout",
     "output_type": "stream",
     "text": [
      "Epoch 199: 100%|██████████| 3/3 [00:00<00:00, 96.05it/s, v_num=2] "
     ]
    },
    {
     "name": "stderr",
     "output_type": "stream",
     "text": [
      "`Trainer.fit` stopped: `max_epochs=200` reached.\n"
     ]
    },
    {
     "name": "stdout",
     "output_type": "stream",
     "text": [
      "Epoch 199: 100%|██████████| 3/3 [00:00<00:00, 58.60it/s, v_num=2]\n"
     ]
    }
   ],
   "source": [
    "\n",
    "trainer = Trainer(max_epochs=200)\n",
    "trainer.fit(model, data)"
   ]
  }
 ],
 "metadata": {
  "kernelspec": {
   "display_name": "shallowstack-tm61lCb_-py3.10",
   "language": "python",
   "name": "python3"
  },
  "language_info": {
   "codemirror_mode": {
    "name": "ipython",
    "version": 3
   },
   "file_extension": ".py",
   "mimetype": "text/x-python",
   "name": "python",
   "nbconvert_exporter": "python",
   "pygments_lexer": "ipython3",
   "version": "3.10.9"
  },
  "orig_nbformat": 4,
  "vscode": {
   "interpreter": {
    "hash": "2fdaf6fb76f860fbda7eb7bb74c1600ddb4c4d4287cb3a2cc656968867f3c7b7"
   }
  }
 },
 "nbformat": 4,
 "nbformat_minor": 2
}
